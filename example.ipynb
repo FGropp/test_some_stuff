{
 "cells": [
  {
   "cell_type": "markdown",
   "id": "79f8cce0",
   "metadata": {},
   "source": [
    "# Notebook 3 - Coupling one particle in 1D to one photonic mode\n",
    "-------------\n",
    "Let us consider the long-wavelength dipole approximation of the Pauli-Fierz Hamiltonian, i.e., we replace $\\[ \\mathbf{\\hat A}_{\\perp}(\\mathbf{r}) \\rightarrow \\mathbf{\\hat A}_{\\perp}(0) = \\mathbf{\\hat A}_{\\perp}\\]$. This approximation will be discussed in more detail in Lec. 1.2. We further just consider only a single <font color='blue'>(one-dimensional in agreement with Notebook 2)</font> particle and the vector potential consists of only one photon mode <font color='blue'>(similar to Notebook 1)</font>. The corresponding Hamiltonian is then\n",
    "\n",
    "\n",
    "Let us consider the long-wavelength dipole approximation of the Pauli-Fierz Hamiltonian, i.e., we replace $\\(\\mathbf{\\hat A}_{\\perp}(\\mathbf{r}) \\rightarrow \\mathbf{\\hat A}_{\\perp}(0) = \\mathbf{\\hat A}_{\\perp}\\)$. This approximation will be discussed in more detail in Lec. 1.2. We further just consider only a single <font color='blue'>(one-dimensional in agreement with Notebook 2)</font> particle and the vector potential consists of only one photon mode <font color='blue'>(similar to Notebook 1)</font>. The corresponding Hamiltonian is then\n",
    "\n",
    "\n",
    "Let us consider the long-wavelength dipole approximation of the Pauli-Fierz Hamiltonian, i.e., we replace \\[$\\mathbf{\\hat A}_{\\perp}(\\mathbf{r}) \\rightarrow \\mathbf{\\hat A}_{\\perp}(0) = \\mathbf{\\hat A}_{\\perp}$\\]. This approximation will be discussed in more detail in Lec. 1.2. We further just consider only a single <font color='blue'>(one-dimensional in agreement with Notebook 2)</font> particle and the vector potential consists of only one photon mode <font color='blue'>(similar to Notebook 1)</font>. The corresponding Hamiltonian is then\n",
    "\n",
    "\n",
    "Let us consider the long-wavelength dipole approximation of the Pauli-Fierz Hamiltonian, i.e., we replace $\\mathbf{\\hat A}_{\\perp}(\\mathbf{r}) \\rightarrow \\mathbf{\\hat A}_{\\perp}(0) = \\mathbf{\\hat A}_{\\perp}$. This approximation will be discussed in more detail in Lec. 1.2. We further just consider only a single <font color='blue'>(one-dimensional in agreement with Notebook 2)</font> particle and the vector potential consists of only one photon mode <font color='blue'>(similar to Notebook 1)</font>. The corresponding Hamiltonian is then\n",
    "\n",
    "$$\n",
    "\\hat{H}^{\\text{lwa}}_{\\text{vel}} = \\frac{1}{2m} \\left(- \\mathrm{i} \\hbar \\partial_x + \\frac{|e|}{c} \\hat{A} \\right)^2 + \\hbar \\omega \\left(\\hat{a}^\\dagger \\hat{a} + \\frac{1}{2} \\right),\n",
    "$$\n",
    "\n",
    "with the single-mode vector potential \n",
    "\n",
    "$$\n",
    "\\hat{A} = \\sqrt{\\frac{\\hbar c^2}{\\epsilon_0 L^3}} \\frac{1}{\\sqrt{2 \\omega}} (\\hat{a} + \\hat{a}^\\dagger)\n",
    "$$\n",
    "\n",
    "on $L^2(\\Omega_{\\text{spatial}}) \\otimes \\mathcal{F}$ with $\\Omega_{\\text{spatial}} = [0,L]$ and periodic boundary conditions for the matter subsystem. We note that a more precise notation for the operators on the coupled Hilbert space would be\n",
    "\n",
    "$$\n",
    "-\\mathrm{i} \\hbar \\partial_x \\otimes \\hat{\\mathbb{1}}_{\\text{photon}} \\quad \\text{and} \\quad \\hat{\\mathbb{1}}_{\\text{matter}} \\otimes \\hat{A},\n",
    "$$\n",
    "\n",
    "and accordingly for the other operators in $\\hat{H}^{\\text{lwa}}_{\\text{vel}}$ where $\\hat{\\mathbb{1}}_{\\text{photon}}$ is the identity operator on $\\mathcal{F}$, and $\\hat{\\mathbb{1}}_{\\text{matter}}$ the identity operator on $L^2(\\Omega_{\\text{spatial}})$. But we will follow the usual convention and suppress the identity operators throughout the school."
   ]
  }
 ],
 "metadata": {
  "kernelspec": {
   "display_name": "Python 3 (ipykernel)",
   "language": "python",
   "name": "python3"
  },
  "language_info": {
   "codemirror_mode": {
    "name": "ipython",
    "version": 3
   },
   "file_extension": ".py",
   "mimetype": "text/x-python",
   "name": "python",
   "nbconvert_exporter": "python",
   "pygments_lexer": "ipython3",
   "version": "3.11.5"
  }
 },
 "nbformat": 4,
 "nbformat_minor": 5
}
